{
  "nbformat": 4,
  "nbformat_minor": 0,
  "metadata": {
    "colab": {
      "name": "NAZIA ISMAT.ipynb",
      "provenance": []
    },
    "kernelspec": {
      "name": "python3",
      "display_name": "Python 3"
    },
    "language_info": {
      "name": "python"
    }
  },
  "cells": [
    {
      "cell_type": "code",
      "metadata": {
        "id": "19RNTSaFapjW"
      },
      "source": [
        "# first neural network with keras make predictions\n",
        "from numpy import loadtxt\n",
        "from keras.models import Sequential\n",
        "from keras.layers import Dense\n",
        "# load the dataset\n",
        "dataset = loadtxt('pima-indians-diabetes.csv', delimiter=',')\n",
        "# split into input (X) and output (y) variables\n",
        "X = dataset[:,0:8]\n",
        "y = dataset[:,8]\n",
        "# define the keras model\n",
        "model = Sequential()\n",
        "model.add(Dense(12, input_dim=8, activation='relu'))\n",
        "model.add(Dense(8, activation='relu'))\n",
        "model.add(Dense(1, activation='sigmoid'))\n",
        "# compile the keras model\n",
        "model.compile(loss='binary_crossentropy', optimizer='adam', metrics=['accuracy'])\n",
        "# fit the keras model on the dataset\n",
        "model.fit(X, y, epochs=150, batch_size=10, verbose=0)\n",
        "# make class predictions with the model\n",
        "predictions = model.predict_classes(X)\n",
        "# summarize the first 5 cases\n",
        "for i in range(5):\n",
        "\tprint('%s => %d (expected %d)' % (X[i].tolist(), predictions[i], y[i]))\n",
        " \n",
        "2\n",
        "3\n",
        "4\n",
        "5\n",
        "6\n",
        "7\n",
        "8\n",
        "9\n",
        "10\n",
        "11\n",
        "12\n",
        "...\n",
        "768/768 [==============================] - 0s 63us/step - loss: 0.4817 - acc: 0.7708\n",
        "Epoch 147/150\n",
        "768/768 [==============================] - 0s 63us/step - loss: 0.4764 - acc: 0.7747\n",
        "Epoch 148/150\n",
        "768/768 [==============================] - 0s 63us/step - loss: 0.4737 - acc: 0.7682\n",
        "Epoch 149/150\n",
        "768/768 [==============================] - 0s 64us/step - loss: 0.4730 - acc: 0.7747\n",
        "Epoch 150/150\n",
        "768/768 [==============================] - 0s 63us/step - loss: 0.4754 - acc: 0.7799\n",
        "768/768 [==============================] - 0s 38us/step\n",
        "Accuracy: 76.56"
      ],
      "execution_count": null,
      "outputs": []
    }
  ]
}